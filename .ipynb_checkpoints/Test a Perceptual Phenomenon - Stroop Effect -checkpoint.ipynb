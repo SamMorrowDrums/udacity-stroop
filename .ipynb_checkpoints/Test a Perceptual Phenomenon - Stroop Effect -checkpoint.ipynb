{
 "cells": [
  {
   "cell_type": "markdown",
   "metadata": {},
   "source": [
    "#Stroop Effect Assignment\n",
    "\n",
    "__1. What is our independent variable? What is our dependent variable?__\n",
    "\n",
    "Our independent variable is the Stroop Effect test type (congruent or incongruent). The dependent variable is the time it takes to complete the test.\n",
    "\n",
    "\n",
    "__2. What is an appropriate set of hypotheses for this task? What kind of statistical test do you expect to perform? Justify your choices.__\n",
    "\n",
    "$H_0$ The incongruent test will not alter the completion time, compared to the congruent test.\n",
    "\n",
    "$H_a$ The incongruent test will increase completion time, compared to the congruent test.\n",
    "\n",
    "$H_0$ $µ ≥ x̄$\n",
    "\n",
    "$H_a$ $µ < x̄$\n",
    "\n",
    "I will perform a dependent, single-sample, one-tailed t-test because:\n",
    "\n",
    "- We have a repeated-measure for individual participants so it is a dependent test\n",
    "- We don't have an entire population data-set, so we cannot perform a z-test\n",
    "- We are testing to see if the incongruent Stroop Effect test truly makes it take longer to read colour names, when compared to the congruent test results, so we are looking for an increase in completion time, hence the one-tailed test.\n"
   ]
  },
  {
   "cell_type": "code",
   "execution_count": 244,
   "metadata": {
    "collapsed": true
   },
   "outputs": [],
   "source": [
    "# Import the Pandas library\n",
    "import pandas as pd\n",
    "# Load in data\n",
    "path = r'stroopdata.csv'\n",
    "dataFrame = pd.read_csv(path)\n",
    "# Create a derived data frame for the difference values\n",
    "dataFrame['Difference'] = dataFrame['Incongruent'] - dataFrame['Congruent']"
   ]
  },
  {
   "cell_type": "markdown",
   "metadata": {},
   "source": [
    "__3. Report some descriptive statistics regarding this dataset. Include at least one measure of central tendency and at least one measure of variability.__\n",
    "\n",
    "$x̄_0$: 14.051\n",
    "\n",
    "µ: 14.051 (closest estimate we have to population mean)\n",
    "\n",
    "$x̄_1$: 22.016\n",
    "\n",
    "Mean Difference: 7.965\n",
    "\n",
    "Cogruent SD: 3.559\n",
    "\n",
    "Incongruent SD: 4.865\n",
    "\n",
    "Difference SD: 3.559"
   ]
  },
  {
   "cell_type": "code",
   "execution_count": 242,
   "metadata": {
    "collapsed": false
   },
   "outputs": [
    {
     "data": {
      "text/html": [
       "<div>\n",
       "<table border=\"1\" class=\"dataframe\">\n",
       "  <thead>\n",
       "    <tr style=\"text-align: right;\">\n",
       "      <th></th>\n",
       "      <th>Congruent</th>\n",
       "      <th>Incongruent</th>\n",
       "      <th>Difference</th>\n",
       "    </tr>\n",
       "  </thead>\n",
       "  <tbody>\n",
       "    <tr>\n",
       "      <th>count</th>\n",
       "      <td>24.000000</td>\n",
       "      <td>24.000000</td>\n",
       "      <td>24.000000</td>\n",
       "    </tr>\n",
       "    <tr>\n",
       "      <th>mean</th>\n",
       "      <td>14.051125</td>\n",
       "      <td>22.015917</td>\n",
       "      <td>7.964792</td>\n",
       "    </tr>\n",
       "    <tr>\n",
       "      <th>std</th>\n",
       "      <td>3.559358</td>\n",
       "      <td>4.797057</td>\n",
       "      <td>4.864827</td>\n",
       "    </tr>\n",
       "    <tr>\n",
       "      <th>min</th>\n",
       "      <td>8.630000</td>\n",
       "      <td>15.687000</td>\n",
       "      <td>1.950000</td>\n",
       "    </tr>\n",
       "    <tr>\n",
       "      <th>25%</th>\n",
       "      <td>11.895250</td>\n",
       "      <td>18.716750</td>\n",
       "      <td>3.645500</td>\n",
       "    </tr>\n",
       "    <tr>\n",
       "      <th>50%</th>\n",
       "      <td>14.356500</td>\n",
       "      <td>21.017500</td>\n",
       "      <td>7.666500</td>\n",
       "    </tr>\n",
       "    <tr>\n",
       "      <th>75%</th>\n",
       "      <td>16.200750</td>\n",
       "      <td>24.051500</td>\n",
       "      <td>10.258500</td>\n",
       "    </tr>\n",
       "    <tr>\n",
       "      <th>max</th>\n",
       "      <td>22.328000</td>\n",
       "      <td>35.255000</td>\n",
       "      <td>21.919000</td>\n",
       "    </tr>\n",
       "  </tbody>\n",
       "</table>\n",
       "</div>"
      ],
      "text/plain": [
       "       Congruent  Incongruent  Difference\n",
       "count  24.000000    24.000000   24.000000\n",
       "mean   14.051125    22.015917    7.964792\n",
       "std     3.559358     4.797057    4.864827\n",
       "min     8.630000    15.687000    1.950000\n",
       "25%    11.895250    18.716750    3.645500\n",
       "50%    14.356500    21.017500    7.666500\n",
       "75%    16.200750    24.051500   10.258500\n",
       "max    22.328000    35.255000   21.919000"
      ]
     },
     "execution_count": 242,
     "metadata": {},
     "output_type": "execute_result"
    }
   ],
   "source": [
    "# Use the Pandas descriptive statistics function\n",
    "dataFrame.describe()"
   ]
  },
  {
   "cell_type": "markdown",
   "metadata": {},
   "source": [
    "\n",
    "__4. Provide one or two visualizations that show the distribution of the sample data. Write one or two sentences noting what you observe about the plot or plots.__"
   ]
  },
  {
   "cell_type": "code",
   "execution_count": 265,
   "metadata": {
    "collapsed": false
   },
   "outputs": [
    {
     "name": "stdout",
     "output_type": "stream",
     "text": [
      "Populating the interactive namespace from numpy and matplotlib\n"
     ]
    },
    {
     "data": {
      "image/png": "[encoded data removed]",
      "text/plain": [
       "<matplotlib.figure.Figure at 0x108d15390>"
      ]
     },
     "metadata": {},
     "output_type": "display_data"
    }
   ],
   "source": [
    "# Visualise the congruent data as histogram, with bins of width 2.5s\n",
    "%pylab inline\n",
    "\n",
    "import matplotlib.pyplot as plt\n",
    "from scipy import stats\n",
    "\n",
    "# Generate bins for the histogram\n",
    "grouped = dataFrame.groupby(pd.cut(dataFrame['Congruent'], bins=[7.5, 10, 12.5, 15, 17.5, 20, 22.5]))['Incongruent'].count().reset_index()\n",
    "grouped\n",
    "\n",
    "plt.bar(range(len(grouped['Incongruent'])), grouped['Incongruent'], align='center')\n",
    "plt.xticks(range(len(grouped['Incongruent'])), grouped['Congruent'], size='small')\n",
    "plt.title(\"Congruent Histogram\")\n",
    "plt.xlabel(\"Time (s)\")\n",
    "plt.ylabel(\"Count\")\n",
    "plt.show()"
   ]
  },
  {
   "cell_type": "markdown",
   "metadata": {},
   "source": [
    "The congruent data, shown in the histogram above, roughly depicts a positively skewed distribution. Given that there are only 20 participants (n=20), it is practically impossible to determine the shape of the population distribution, but my best estimate looking at the data is that it would be normally distributed or possibly postively skewed."
   ]
  },
  {
   "cell_type": "code",
   "execution_count": 246,
   "metadata": {
    "collapsed": false
   },
   "outputs": [
    {
     "data": {
      "image/png": "[encoded data removed]",
      "text/plain": [
       "<matplotlib.figure.Figure at 0x109852cd0>"
      ]
     },
     "metadata": {},
     "output_type": "display_data"
    }
   ],
   "source": [
    "grouped2 = dataFrame.groupby(pd.cut(dataFrame['Incongruent'], bins=[12, 16, 20, 24, 28, 32, 36]))['Congruent'].count().reset_index()\n",
    "grouped2\n",
    "plt.title(\"Incongruent Histogram\")\n",
    "plt.xlabel(\"Time (s)\")\n",
    "plt.ylabel(\"Count\")\n",
    "plt.bar(range(len(grouped2['Congruent'])), grouped2['Congruent'], align='center')\n",
    "plt.xticks(range(len(grouped2['Congruent'])), grouped2['Incongruent'], size='small')\n",
    "plt.show()"
   ]
  },
  {
   "cell_type": "markdown",
   "metadata": {},
   "source": [
    "The incongruent data is more widely distributed, so I have upped the bin size of the histogram from 2.5 seconds to 4s. The data also appears to be on average higher than the data from the congruent test. Yet again, there is not enough data to exactly determine the population distribution, but it seems to be normally distributed, with a possible positive skew."
   ]
  },
  {
   "cell_type": "markdown",
   "metadata": {},
   "source": [
    "__5. Now, perform the statistical test and report your results. What is your confidence level and your critical statistic value? Do you reject the null hypothesis or fail to reject it? Come to a conclusion in terms of the experiment task. Did the results match up with your expectations?__\n",
    "\n"
   ]
  },
  {
   "cell_type": "markdown",
   "metadata": {},
   "source": [
    "###Results\n",
    "t-critical: 1.714\n",
    "\n",
    "SEM: .726\n",
    "\n",
    "$x̄ - µ =  7.965$\n",
    "\n",
    "Margin of Error: 1.502\n",
    "\n",
    "CI 95% = (20.514, 23.518)\n",
    "\n",
    "t-score: 10.962\n",
    "\n",
    "Cohen's d: 2.238\n",
    "\n",
    "$r^2$ = .841\n",
    "\n",
    "p < .05\n",
    "\n",
    "###Determination\n",
    "\n",
    "Our confidence level in $H_a$ is > 99%\n",
    "\n",
    "We can reject the null.\n",
    "\n",
    "\n",
    "###Conclusion\n",
    "\n",
    "We can conclude that as the difference in times measured is statistically significant, the Stroop Effect is a likely explanation for our results.\n",
    "\n",
    "I expected this outcome, because from my own participation, and observing others, the anecdotal evidence suggested this effect was surprisingly strong.\n",
    "\n",
    "While this test appears to have very conclusive results, and the effect seems to be strong enough that it is apparent from even a relatively small group, the study would be improved by having a larger sample size. Particularly as we do not have a population mean, so I have had to substitute $x̄_0$ as µ.\n",
    "\n",
    "Furthermore, with no details provided about the selection of participants, these results are at risk to false positives, for example perhaps only 8% of the population is affected by the Stroop Effect, and the participants chosen were pre-screened for being affected, that would jeopardise the results."
   ]
  },
  {
   "cell_type": "markdown",
   "metadata": {},
   "source": [
    "__6. Optional: What do you think is responsible for the effects observed? Can you think of an alternative or similar task that would result in a similar effect? Some research about the problem will be helpful for thinking about these two questions!__\n",
    "\n",
    "I think the mind registers the colour and the word effectively in isolation, and is good at recognising matches automatically, but when it encounters a contradictory scenario (i.e. visual colour different to written) it forces the brain to consciously determine what option is correct. This \"fast, slow\" thinking has been studied numerous times, and I was introduced to the topic by the book [Thinking, Fast and Slow](http://www.amazon.co.uk/Thinking-Fast-Slow-Daniel-Kahneman/dp/0141033576), by Daniel Kahneman. There seems to be a massive speed difference between subconscious and conscious thought.\n",
    "\n",
    "The most obvious alternative experiment I can think of, is to read out the colour you see, rather than the written text. The [original Stroop publication](http://psychclassics.yorku.ca/Stroop/) used black text, coloured text and coloured blocks, however he did not compare the times of congruent versus incongruent in seconds to completion - seconds to completion, as modern versions of the test do (such as the one in this experiment)."
   ]
  },
  {
   "cell_type": "markdown",
   "metadata": {},
   "source": [
    "##Below is some of my initial exploratory work"
   ]
  },
  {
   "cell_type": "code",
   "execution_count": 262,
   "metadata": {
    "collapsed": false
   },
   "outputs": [],
   "source": [
    "import csv\n",
    "congruent = {'data': []}\n",
    "incongruent = {'data': []}\n",
    "difference = {'data': []}\n",
    "n = 0\n",
    "tCrit = 1.714\n",
    "with open('stroopdata.csv', 'rb') as dataFile:\n",
    "    reader = csv.reader(dataFile)\n",
    "    next(reader, None)\n",
    "    for row in reader:\n",
    "        n += 1\n",
    "        congruent['data'].append(float(row[0]))\n",
    "        incongruent['data'].append(float(row[1]))\n",
    "        difference['data'].append(float(row[1]) - float(row[0]))"
   ]
  },
  {
   "cell_type": "code",
   "execution_count": 258,
   "metadata": {
    "collapsed": false
   },
   "outputs": [
    {
     "name": "stdout",
     "output_type": "stream",
     "text": [
      "Number of records (n) 24\n",
      "Average time with congruent Test 14.051125\n",
      "Average time with incongruent Test 22.0159166667\n",
      "Average difference 7.96479166667\n",
      "Standard Deviation 3.55935795765\n",
      "t-Statistic 10.9624689189\n",
      "Probability of null hypothesis 2.89489659671e-28\n",
      "T is greater that T-Crit, and therefore reject null True\n"
     ]
    },
    {
     "data": {
      "text/plain": [
       "0.7264778328804443"
      ]
     },
     "execution_count": 258,
     "metadata": {},
     "output_type": "execute_result"
    }
   ],
   "source": [
    "import math, scipy.stats\n",
    "print 'Number of records (n)', n\n",
    "congruent['ave'] = sum(congruent['data'])/n\n",
    "incongruent['ave'] = sum(incongruent['data'])/n\n",
    "difference['ave'] = sum(difference['data'])/n\n",
    "print 'Average time with congruent Test', congruent['ave']\n",
    "print 'Average time with incongruent Test', incongruent['ave']\n",
    "print 'Average difference', difference['ave']\n",
    "congruent['variance'] = 0\n",
    "for val in congruent['data']:\n",
    "    congruent['variance'] += (val - congruent['ave'])**2 / (n - 1)\n",
    "\n",
    "congruent['sd'] = math.sqrt(congruent['variance'])\n",
    "SEM = 3.559 / math.sqrt(n)\n",
    "difference['t'] = (difference['ave'] - 0) / (congruent['sd'] / math.sqrt(n))\n",
    "print 'Standard Deviation', congruent['sd']\n",
    "print 't-Statistic', difference['t']\n",
    "difference['p'] = scipy.stats.norm.sf(difference['t'])\n",
    "print 'Probability of null hypothesis', difference['p']\n",
    "print 'T is greater that T-Crit, and therefore reject null', difference['t'] > tCrit\n",
    "SEM"
   ]
  },
  {
   "cell_type": "code",
   "execution_count": 76,
   "metadata": {
    "collapsed": false
   },
   "outputs": [
    {
     "data": {
      "text/plain": [
       "14.051125000000004"
      ]
     },
     "execution_count": 76,
     "metadata": {},
     "output_type": "execute_result"
    }
   ],
   "source": [
    "dataFrame['Congruent'].mean()"
   ]
  },
  {
   "cell_type": "code",
   "execution_count": 77,
   "metadata": {
    "collapsed": false,
    "scrolled": true
   },
   "outputs": [
    {
     "data": {
      "text/plain": [
       "22.01591666666667"
      ]
     },
     "execution_count": 77,
     "metadata": {},
     "output_type": "execute_result"
    }
   ],
   "source": [
    "dataFrame['Incongruent'].mean()"
   ]
  },
  {
   "cell_type": "code",
   "execution_count": 86,
   "metadata": {
    "collapsed": false
   },
   "outputs": [
    {
     "data": {
      "text/plain": [
       "7.964791666666667"
      ]
     },
     "execution_count": 86,
     "metadata": {},
     "output_type": "execute_result"
    }
   ],
   "source": [
    "dataFrame['Difference'].mean()"
   ]
  },
  {
   "cell_type": "code",
   "execution_count": 260,
   "metadata": {
    "collapsed": false
   },
   "outputs": [
    {
     "data": {
      "image/png": "[encoded data removed]",
      "text/plain": [
       "<matplotlib.figure.Figure at 0x10a8898d0>"
      ]
     },
     "metadata": {},
     "output_type": "display_data"
    }
   ],
   "source": [
    "plt.scatter(x=dataFrame['Congruent'], y=dataFrame['Incongruent'])\n",
    "plt.axis([0, 28, 0, 28])\n",
    "plt.xlabel(\"Congruent\")\n",
    "plt.ylabel(\"Incongruent\")\n",
    "plt.title(\"Stroop Effect Congruent vs Incongruent\")\n",
    "plt.show()"
   ]
  },
  {
   "cell_type": "code",
   "execution_count": 261,
   "metadata": {
    "collapsed": false
   },
   "outputs": [
    {
     "data": {
      "text/plain": [
       "3.559357957645195"
      ]
     },
     "execution_count": 261,
     "metadata": {},
     "output_type": "execute_result"
    }
   ],
   "source": [
    "varianceFrame = (dataFrame['Congruent'] - dataFrame['Congruent'].mean()) ** 2\n",
    "congruentVariance = varianceFrame.sum() / 23\n",
    "congruentSD = math.sqrt(congruentVariance)\n",
    "congruentSD"
   ]
  },
  {
   "cell_type": "code",
   "execution_count": null,
   "metadata": {
    "collapsed": true
   },
   "outputs": [],
   "source": []
  }
 ],
 "metadata": {
  "kernelspec": {
   "display_name": "Python 2",
   "language": "python",
   "name": "python2"
  },
  "language_info": {
   "codemirror_mode": {
    "name": "ipython",
    "version": 2
   },
   "file_extension": ".py",
   "mimetype": "text/x-python",
   "name": "python",
   "nbconvert_exporter": "python",
   "pygments_lexer": "ipython2",
   "version": "2.7.10"
  }
 },
 "nbformat": 4,
 "nbformat_minor": 0
}
